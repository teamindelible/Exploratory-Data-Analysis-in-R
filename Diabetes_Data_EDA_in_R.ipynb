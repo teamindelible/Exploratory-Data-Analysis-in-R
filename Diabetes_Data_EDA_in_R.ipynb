{
 "cells": [
  {
   "cell_type": "markdown",
   "id": "mysterious-words",
   "metadata": {},
   "source": [
    "# Exploratory Data Analysis and Predictive Analytics on Diabetes Dataset\n",
    "\n",
    "### Michael A. Akinola (other contributor: Afeez A. Oladokun)"
   ]
  },
  {
   "cell_type": "markdown",
   "id": "fluid-wyoming",
   "metadata": {},
   "source": [
    "### 1.0 Introduction\n",
    "\n",
    "Exploratory Data Analysis (EDA) is an approach for data analysis that often uses statistical graphics and other data visualization methods to maximize insight into a data set. Most EDA techniques are graphical in nature with a few quantitative techniques. The reason for the heavy reliance on graphics is that by its very nature the main role of EDA is to open-mindedly explore, and graphics gives the analysts unparalleled power to do so, enticing the data to reveal its structural secrets, and being always ready to gain some new, often unsuspected, insight into the data. This analysis among other insights uncover underlying structure; extract important variables; detect outliers and anomalies; test underlying assumptions; develop parsimonious models; and determine optimal factor settings.\n",
    "\n",
    "There are several tools that are useful for EDA, but EDA is characterized more by the attitude taken than by techniques. Some of the Graphical techniques used in EDA are Box plot, Histogram, Multivariate chart, Pareto chart, Scatter plot, Stem-and-leaf plot, Odds ratio. Dimensionality reduction techniques are Multidimensional scaling, Principal component analysis (PCA), Multilinear PCA, Nonlinear dimensionality reduction (NLDR) while Typical quantitative techniques are Median polish, Trimean, and Ordination.\n",
    "\n",
    "In this work, we started by importing the data into R. Then probed and explored the data by inspecting the variable types, outlying and possibly wrong records, and other issues. We checked if there are any missing values which we applied listwise deletion, we inspected the frequency distribution of the target variable class and see, e.g., whether we have an unbalanced classification problem.\n",
    "\n",
    "We also did Variable Screening which involves the exploration of the marginal (bivariate) associations between class and each attribute/predictor. For this, we deployed the parametric two-sample t test and the nonparametric Wilcoxon rank-sum test for continuous predictors; and Two-test of independence and Fisher's exact test for categorical predictors. We made our deductions and conclusions from the resultant p-values from each test for which a liberal threshold significance level, α = 0.25, was applied to remove a few unimportant predictors. This is a key step to reduce the dimension of predictors. We computed and visualized the correlation matrix choosing Pearson’s coefficient to gain more insight.\n",
    "\n",
    "The work was concluded with Data partition. We partitioned the data into two parts, the training data, D1 and the test data, D2, using a ratio of 2:1."
   ]
  },
  {
   "cell_type": "code",
   "execution_count": 21,
   "id": "fantastic-workstation",
   "metadata": {},
   "outputs": [],
   "source": [
    "# ==========\n",
    "# LIBRARIES \n",
    "# ==========\n",
    "\n",
    "#### Install ####\n",
    "\n",
    "#install.packages(\"funModeling\")\n",
    "#install.packages(\"naniar\")\n",
    "#install.packages(\"nortest\")\n",
    "#install.packages(\"dplyr\")\n",
    "\n",
    "#### Import ####\n",
    "\n",
    "library(\"funModeling\")\n",
    "library(\"naniar\")\n",
    "library(\"nortest\")\n",
    "library(\"dplyr\")"
   ]
  },
  {
   "cell_type": "markdown",
   "id": "accessory-margin",
   "metadata": {},
   "source": [
    "### 2.0 Dataset\n",
    "\n",
    "The dataset used for this work was fetched from University of California, Irvine, Machine Learning Repository. This dataset contains the signs and symptoms data of newly diabetic or would be diabetic patient. It is multivariate and its associated task is classification. The dataset contains 520 instances and 17 attributes. The dataset was donated by M. M. Faniqul Islam, Rahatara Ferdousi, Sadikur Rahman, and Humayra Yasmin Bushra on July 12, 2020. They reported that the mode of collection was by direct questionnaires from the patients of Sylhet Diabetes Hospital in Sylhet, Bangladesh and approved by a doctor. This proved that the dataset is a real data and not made up."
   ]
  },
  {
   "cell_type": "markdown",
   "id": "deluxe-coalition",
   "metadata": {},
   "source": [
    "#### 2.1 Initial Data Inspection "
   ]
  },
  {
   "cell_type": "code",
   "execution_count": 2,
   "id": "elect-removal",
   "metadata": {},
   "outputs": [],
   "source": [
    "#### Bringing in the data #### \n",
    "\n",
    "diabetes_data <- read.csv(file=\"http://archive.ics.uci.edu/ml/machine-learning-databases/00529/diabetes_data_upload.csv\")"
   ]
  },
  {
   "cell_type": "code",
   "execution_count": 3,
   "id": "automotive-ebony",
   "metadata": {},
   "outputs": [
    {
     "data": {
      "text/html": [
       "'Data contains the following number of rows and columns respectively'"
      ],
      "text/latex": [
       "'Data contains the following number of rows and columns respectively'"
      ],
      "text/markdown": [
       "'Data contains the following number of rows and columns respectively'"
      ],
      "text/plain": [
       "[1] \"Data contains the following number of rows and columns respectively\""
      ]
     },
     "metadata": {},
     "output_type": "display_data"
    },
    {
     "data": {
      "text/html": [
       "<ol class=list-inline>\n",
       "\t<li>520</li>\n",
       "\t<li>17</li>\n",
       "</ol>\n"
      ],
      "text/latex": [
       "\\begin{enumerate*}\n",
       "\\item 520\n",
       "\\item 17\n",
       "\\end{enumerate*}\n"
      ],
      "text/markdown": [
       "1. 520\n",
       "2. 17\n",
       "\n",
       "\n"
      ],
      "text/plain": [
       "[1] 520  17"
      ]
     },
     "metadata": {},
     "output_type": "display_data"
    }
   ],
   "source": [
    "#### Dimension of data ####\n",
    "\n",
    "(\"Data contains the following number of rows and columns respectively\")\n",
    "dim(diabetes_data)"
   ]
  },
  {
   "cell_type": "code",
   "execution_count": 4,
   "id": "durable-surprise",
   "metadata": {},
   "outputs": [
    {
     "data": {
      "text/html": [
       "'Top six rows:'"
      ],
      "text/latex": [
       "'Top six rows:'"
      ],
      "text/markdown": [
       "'Top six rows:'"
      ],
      "text/plain": [
       "[1] \"Top six rows:\""
      ]
     },
     "metadata": {},
     "output_type": "display_data"
    },
    {
     "data": {
      "text/html": [
       "<table>\n",
       "<thead><tr><th scope=col>Age</th><th scope=col>Gender</th><th scope=col>Polyuria</th><th scope=col>Polydipsia</th><th scope=col>sudden.weight.loss</th><th scope=col>weakness</th><th scope=col>Polyphagia</th><th scope=col>Genital.thrush</th><th scope=col>visual.blurring</th><th scope=col>Itching</th><th scope=col>Irritability</th><th scope=col>delayed.healing</th><th scope=col>partial.paresis</th><th scope=col>muscle.stiffness</th><th scope=col>Alopecia</th><th scope=col>Obesity</th><th scope=col>class</th></tr></thead>\n",
       "<tbody>\n",
       "\t<tr><td>40      </td><td>Male    </td><td>No      </td><td>Yes     </td><td>No      </td><td>Yes     </td><td>No      </td><td>No      </td><td>No      </td><td>Yes     </td><td>No      </td><td>Yes     </td><td>No      </td><td>Yes     </td><td>Yes     </td><td>Yes     </td><td>Positive</td></tr>\n",
       "\t<tr><td>58      </td><td>Male    </td><td>No      </td><td>No      </td><td>No      </td><td>Yes     </td><td>No      </td><td>No      </td><td>Yes     </td><td>No      </td><td>No      </td><td>No      </td><td>Yes     </td><td>No      </td><td>Yes     </td><td>No      </td><td>Positive</td></tr>\n",
       "\t<tr><td>41      </td><td>Male    </td><td>Yes     </td><td>No      </td><td>No      </td><td>Yes     </td><td>Yes     </td><td>No      </td><td>No      </td><td>Yes     </td><td>No      </td><td>Yes     </td><td>No      </td><td>Yes     </td><td>Yes     </td><td>No      </td><td>Positive</td></tr>\n",
       "\t<tr><td>45      </td><td>Male    </td><td>No      </td><td>No      </td><td>Yes     </td><td>Yes     </td><td>Yes     </td><td>Yes     </td><td>No      </td><td>Yes     </td><td>No      </td><td>Yes     </td><td>No      </td><td>No      </td><td>No      </td><td>No      </td><td>Positive</td></tr>\n",
       "\t<tr><td>60      </td><td>Male    </td><td>Yes     </td><td>Yes     </td><td>Yes     </td><td>Yes     </td><td>Yes     </td><td>No      </td><td>Yes     </td><td>Yes     </td><td>Yes     </td><td>Yes     </td><td>Yes     </td><td>Yes     </td><td>Yes     </td><td>Yes     </td><td>Positive</td></tr>\n",
       "\t<tr><td>55      </td><td>Male    </td><td>Yes     </td><td>Yes     </td><td>No      </td><td>Yes     </td><td>Yes     </td><td>No      </td><td>Yes     </td><td>Yes     </td><td>No      </td><td>Yes     </td><td>No      </td><td>Yes     </td><td>Yes     </td><td>Yes     </td><td>Positive</td></tr>\n",
       "</tbody>\n",
       "</table>\n"
      ],
      "text/latex": [
       "\\begin{tabular}{r|lllllllllllllllll}\n",
       " Age & Gender & Polyuria & Polydipsia & sudden.weight.loss & weakness & Polyphagia & Genital.thrush & visual.blurring & Itching & Irritability & delayed.healing & partial.paresis & muscle.stiffness & Alopecia & Obesity & class\\\\\n",
       "\\hline\n",
       "\t 40       & Male     & No       & Yes      & No       & Yes      & No       & No       & No       & Yes      & No       & Yes      & No       & Yes      & Yes      & Yes      & Positive\\\\\n",
       "\t 58       & Male     & No       & No       & No       & Yes      & No       & No       & Yes      & No       & No       & No       & Yes      & No       & Yes      & No       & Positive\\\\\n",
       "\t 41       & Male     & Yes      & No       & No       & Yes      & Yes      & No       & No       & Yes      & No       & Yes      & No       & Yes      & Yes      & No       & Positive\\\\\n",
       "\t 45       & Male     & No       & No       & Yes      & Yes      & Yes      & Yes      & No       & Yes      & No       & Yes      & No       & No       & No       & No       & Positive\\\\\n",
       "\t 60       & Male     & Yes      & Yes      & Yes      & Yes      & Yes      & No       & Yes      & Yes      & Yes      & Yes      & Yes      & Yes      & Yes      & Yes      & Positive\\\\\n",
       "\t 55       & Male     & Yes      & Yes      & No       & Yes      & Yes      & No       & Yes      & Yes      & No       & Yes      & No       & Yes      & Yes      & Yes      & Positive\\\\\n",
       "\\end{tabular}\n"
      ],
      "text/markdown": [
       "\n",
       "| Age | Gender | Polyuria | Polydipsia | sudden.weight.loss | weakness | Polyphagia | Genital.thrush | visual.blurring | Itching | Irritability | delayed.healing | partial.paresis | muscle.stiffness | Alopecia | Obesity | class |\n",
       "|---|---|---|---|---|---|---|---|---|---|---|---|---|---|---|---|---|\n",
       "| 40       | Male     | No       | Yes      | No       | Yes      | No       | No       | No       | Yes      | No       | Yes      | No       | Yes      | Yes      | Yes      | Positive |\n",
       "| 58       | Male     | No       | No       | No       | Yes      | No       | No       | Yes      | No       | No       | No       | Yes      | No       | Yes      | No       | Positive |\n",
       "| 41       | Male     | Yes      | No       | No       | Yes      | Yes      | No       | No       | Yes      | No       | Yes      | No       | Yes      | Yes      | No       | Positive |\n",
       "| 45       | Male     | No       | No       | Yes      | Yes      | Yes      | Yes      | No       | Yes      | No       | Yes      | No       | No       | No       | No       | Positive |\n",
       "| 60       | Male     | Yes      | Yes      | Yes      | Yes      | Yes      | No       | Yes      | Yes      | Yes      | Yes      | Yes      | Yes      | Yes      | Yes      | Positive |\n",
       "| 55       | Male     | Yes      | Yes      | No       | Yes      | Yes      | No       | Yes      | Yes      | No       | Yes      | No       | Yes      | Yes      | Yes      | Positive |\n",
       "\n"
      ],
      "text/plain": [
       "  Age Gender Polyuria Polydipsia sudden.weight.loss weakness Polyphagia\n",
       "1 40  Male   No       Yes        No                 Yes      No        \n",
       "2 58  Male   No       No         No                 Yes      No        \n",
       "3 41  Male   Yes      No         No                 Yes      Yes       \n",
       "4 45  Male   No       No         Yes                Yes      Yes       \n",
       "5 60  Male   Yes      Yes        Yes                Yes      Yes       \n",
       "6 55  Male   Yes      Yes        No                 Yes      Yes       \n",
       "  Genital.thrush visual.blurring Itching Irritability delayed.healing\n",
       "1 No             No              Yes     No           Yes            \n",
       "2 No             Yes             No      No           No             \n",
       "3 No             No              Yes     No           Yes            \n",
       "4 Yes            No              Yes     No           Yes            \n",
       "5 No             Yes             Yes     Yes          Yes            \n",
       "6 No             Yes             Yes     No           Yes            \n",
       "  partial.paresis muscle.stiffness Alopecia Obesity class   \n",
       "1 No              Yes              Yes      Yes     Positive\n",
       "2 Yes             No               Yes      No      Positive\n",
       "3 No              Yes              Yes      No      Positive\n",
       "4 No              No               No       No      Positive\n",
       "5 Yes             Yes              Yes      Yes     Positive\n",
       "6 No              Yes              Yes      Yes     Positive"
      ]
     },
     "metadata": {},
     "output_type": "display_data"
    },
    {
     "data": {
      "text/html": [
       "'Bottom six rows:'"
      ],
      "text/latex": [
       "'Bottom six rows:'"
      ],
      "text/markdown": [
       "'Bottom six rows:'"
      ],
      "text/plain": [
       "[1] \"Bottom six rows:\""
      ]
     },
     "metadata": {},
     "output_type": "display_data"
    },
    {
     "data": {
      "text/html": [
       "<table>\n",
       "<thead><tr><th></th><th scope=col>Age</th><th scope=col>Gender</th><th scope=col>Polyuria</th><th scope=col>Polydipsia</th><th scope=col>sudden.weight.loss</th><th scope=col>weakness</th><th scope=col>Polyphagia</th><th scope=col>Genital.thrush</th><th scope=col>visual.blurring</th><th scope=col>Itching</th><th scope=col>Irritability</th><th scope=col>delayed.healing</th><th scope=col>partial.paresis</th><th scope=col>muscle.stiffness</th><th scope=col>Alopecia</th><th scope=col>Obesity</th><th scope=col>class</th></tr></thead>\n",
       "<tbody>\n",
       "\t<tr><th scope=row>515</th><td>54      </td><td>Female  </td><td>Yes     </td><td>Yes     </td><td>Yes     </td><td>Yes     </td><td>Yes     </td><td>No      </td><td>No      </td><td>No      </td><td>No      </td><td>No      </td><td>Yes     </td><td>No      </td><td>No      </td><td>No      </td><td>Positive</td></tr>\n",
       "\t<tr><th scope=row>516</th><td>39      </td><td>Female  </td><td>Yes     </td><td>Yes     </td><td>Yes     </td><td>No      </td><td>Yes     </td><td>No      </td><td>No      </td><td>Yes     </td><td>No      </td><td>Yes     </td><td>Yes     </td><td>No      </td><td>No      </td><td>No      </td><td>Positive</td></tr>\n",
       "\t<tr><th scope=row>517</th><td>48      </td><td>Female  </td><td>Yes     </td><td>Yes     </td><td>Yes     </td><td>Yes     </td><td>Yes     </td><td>No      </td><td>No      </td><td>Yes     </td><td>Yes     </td><td>Yes     </td><td>Yes     </td><td>No      </td><td>No      </td><td>No      </td><td>Positive</td></tr>\n",
       "\t<tr><th scope=row>518</th><td>58      </td><td>Female  </td><td>Yes     </td><td>Yes     </td><td>Yes     </td><td>Yes     </td><td>Yes     </td><td>No      </td><td>Yes     </td><td>No      </td><td>No      </td><td>No      </td><td>Yes     </td><td>Yes     </td><td>No      </td><td>Yes     </td><td>Positive</td></tr>\n",
       "\t<tr><th scope=row>519</th><td>32      </td><td>Female  </td><td>No      </td><td>No      </td><td>No      </td><td>Yes     </td><td>No      </td><td>No      </td><td>Yes     </td><td>Yes     </td><td>No      </td><td>Yes     </td><td>No      </td><td>No      </td><td>Yes     </td><td>No      </td><td>Negative</td></tr>\n",
       "\t<tr><th scope=row>520</th><td>42      </td><td>Male    </td><td>No      </td><td>No      </td><td>No      </td><td>No      </td><td>No      </td><td>No      </td><td>No      </td><td>No      </td><td>No      </td><td>No      </td><td>No      </td><td>No      </td><td>No      </td><td>No      </td><td>Negative</td></tr>\n",
       "</tbody>\n",
       "</table>\n"
      ],
      "text/latex": [
       "\\begin{tabular}{r|lllllllllllllllll}\n",
       "  & Age & Gender & Polyuria & Polydipsia & sudden.weight.loss & weakness & Polyphagia & Genital.thrush & visual.blurring & Itching & Irritability & delayed.healing & partial.paresis & muscle.stiffness & Alopecia & Obesity & class\\\\\n",
       "\\hline\n",
       "\t515 & 54       & Female   & Yes      & Yes      & Yes      & Yes      & Yes      & No       & No       & No       & No       & No       & Yes      & No       & No       & No       & Positive\\\\\n",
       "\t516 & 39       & Female   & Yes      & Yes      & Yes      & No       & Yes      & No       & No       & Yes      & No       & Yes      & Yes      & No       & No       & No       & Positive\\\\\n",
       "\t517 & 48       & Female   & Yes      & Yes      & Yes      & Yes      & Yes      & No       & No       & Yes      & Yes      & Yes      & Yes      & No       & No       & No       & Positive\\\\\n",
       "\t518 & 58       & Female   & Yes      & Yes      & Yes      & Yes      & Yes      & No       & Yes      & No       & No       & No       & Yes      & Yes      & No       & Yes      & Positive\\\\\n",
       "\t519 & 32       & Female   & No       & No       & No       & Yes      & No       & No       & Yes      & Yes      & No       & Yes      & No       & No       & Yes      & No       & Negative\\\\\n",
       "\t520 & 42       & Male     & No       & No       & No       & No       & No       & No       & No       & No       & No       & No       & No       & No       & No       & No       & Negative\\\\\n",
       "\\end{tabular}\n"
      ],
      "text/markdown": [
       "\n",
       "| <!--/--> | Age | Gender | Polyuria | Polydipsia | sudden.weight.loss | weakness | Polyphagia | Genital.thrush | visual.blurring | Itching | Irritability | delayed.healing | partial.paresis | muscle.stiffness | Alopecia | Obesity | class |\n",
       "|---|---|---|---|---|---|---|---|---|---|---|---|---|---|---|---|---|---|\n",
       "| 515 | 54       | Female   | Yes      | Yes      | Yes      | Yes      | Yes      | No       | No       | No       | No       | No       | Yes      | No       | No       | No       | Positive |\n",
       "| 516 | 39       | Female   | Yes      | Yes      | Yes      | No       | Yes      | No       | No       | Yes      | No       | Yes      | Yes      | No       | No       | No       | Positive |\n",
       "| 517 | 48       | Female   | Yes      | Yes      | Yes      | Yes      | Yes      | No       | No       | Yes      | Yes      | Yes      | Yes      | No       | No       | No       | Positive |\n",
       "| 518 | 58       | Female   | Yes      | Yes      | Yes      | Yes      | Yes      | No       | Yes      | No       | No       | No       | Yes      | Yes      | No       | Yes      | Positive |\n",
       "| 519 | 32       | Female   | No       | No       | No       | Yes      | No       | No       | Yes      | Yes      | No       | Yes      | No       | No       | Yes      | No       | Negative |\n",
       "| 520 | 42       | Male     | No       | No       | No       | No       | No       | No       | No       | No       | No       | No       | No       | No       | No       | No       | Negative |\n",
       "\n"
      ],
      "text/plain": [
       "    Age Gender Polyuria Polydipsia sudden.weight.loss weakness Polyphagia\n",
       "515 54  Female Yes      Yes        Yes                Yes      Yes       \n",
       "516 39  Female Yes      Yes        Yes                No       Yes       \n",
       "517 48  Female Yes      Yes        Yes                Yes      Yes       \n",
       "518 58  Female Yes      Yes        Yes                Yes      Yes       \n",
       "519 32  Female No       No         No                 Yes      No        \n",
       "520 42  Male   No       No         No                 No       No        \n",
       "    Genital.thrush visual.blurring Itching Irritability delayed.healing\n",
       "515 No             No              No      No           No             \n",
       "516 No             No              Yes     No           Yes            \n",
       "517 No             No              Yes     Yes          Yes            \n",
       "518 No             Yes             No      No           No             \n",
       "519 No             Yes             Yes     No           Yes            \n",
       "520 No             No              No      No           No             \n",
       "    partial.paresis muscle.stiffness Alopecia Obesity class   \n",
       "515 Yes             No               No       No      Positive\n",
       "516 Yes             No               No       No      Positive\n",
       "517 Yes             No               No       No      Positive\n",
       "518 Yes             Yes              No       Yes     Positive\n",
       "519 No              No               Yes      No      Negative\n",
       "520 No              No               No       No      Negative"
      ]
     },
     "metadata": {},
     "output_type": "display_data"
    }
   ],
   "source": [
    "#### Top six rows of data and Bottom six rows of data ####\n",
    "\n",
    "(\"Top six rows:\")\n",
    "head(diabetes_data)\n",
    "\n",
    "(\"Bottom six rows:\")\n",
    "tail(diabetes_data)"
   ]
  },
  {
   "cell_type": "markdown",
   "id": "cheap-settle",
   "metadata": {},
   "source": [
    "#### 2.2 Structure and Metrics of data "
   ]
  },
  {
   "cell_type": "markdown",
   "id": "included-numbers",
   "metadata": {},
   "source": [
    "The str() function compactly display the internal structure of an R object (our dataset in this case). It is a diagnostic function and an alternative to summary. Ideally, only one line for each ‘basic’ structure is displayed. It is especially well suited to compactly display the (abbreviated) contents of (possibly nested) lists. The idea is to give reasonable output for any R object.\n",
    "    \n",
    "The df_status() function dispaly quantity and percentage of zeros (q_zeros and p_zeros respectevly). Same metrics for NA values (q_NA and p_na). Last two columns indicates data type and quantity of unique values.\n",
    "\n",
    "The outputs of the two cells below showed the attribute information of the data as follows.\n",
    "\n",
    "##### Predictor variables:\n",
    "1.\tAge: This ranges from 20 to 65 years old; \n",
    "2.\tSex: Male/Female; \n",
    "3.\tPolyuria (production of abnormally large volumes of dilute urine): Yes/No;\n",
    "4.\tPolydipsia (abnormally great thirst as a symptom of disease); Yes/No;\n",
    "5.\tSudden weight loss: Yes/No;\n",
    "6.\tWeakness: Yes/No;\n",
    "7.\tPolyphagia (abnormally strong sensation of hunger or desire to eat often leading to or accompanied by overeating): Yes/No;\n",
    "8.\tGenital thrush (a yeast infection): Yes/No;\n",
    "9.\tVisual blurring: Yes/No;\n",
    "10.\tItching: Yes/No;\n",
    "11.\tIrritability: Yes/No;\n",
    "12.\tDelayed healing: Yes/No;\n",
    "13.\tPartial paresis (the weakening of a muscle or group of muscles): Yes/No;\n",
    "14.\tMuscle stiffness: Yes/No;\n",
    "15.\tAlopecia (a condition that causes hair to fall out in small patches, which can be unnoticeable): Yes/No;\n",
    "16.\tObesity (a complex disease involving an excessive amount of body fat): Yes/No.\n",
    "\n",
    "##### Target variable:\n",
    "17.\tClass: Positive/Negative.\n",
    "\n",
    "We found out that 15 out of 16 predictor variables of our 17 attributes in our dataset are categorical. The target column is also categorical"
   ]
  },
  {
   "cell_type": "code",
   "execution_count": 5,
   "id": "coral-allen",
   "metadata": {},
   "outputs": [
    {
     "name": "stdout",
     "output_type": "stream",
     "text": [
      "'data.frame':\t520 obs. of  17 variables:\n",
      " $ Age               : int  40 58 41 45 60 55 57 66 67 70 ...\n",
      " $ Gender            : Factor w/ 2 levels \"Female\",\"Male\": 2 2 2 2 2 2 2 2 2 2 ...\n",
      " $ Polyuria          : Factor w/ 2 levels \"No\",\"Yes\": 1 1 2 1 2 2 2 2 2 1 ...\n",
      " $ Polydipsia        : Factor w/ 2 levels \"No\",\"Yes\": 2 1 1 1 2 2 2 2 2 2 ...\n",
      " $ sudden.weight.loss: Factor w/ 2 levels \"No\",\"Yes\": 1 1 1 2 2 1 1 2 1 2 ...\n",
      " $ weakness          : Factor w/ 2 levels \"No\",\"Yes\": 2 2 2 2 2 2 2 2 2 2 ...\n",
      " $ Polyphagia        : Factor w/ 2 levels \"No\",\"Yes\": 1 1 2 2 2 2 2 1 2 2 ...\n",
      " $ Genital.thrush    : Factor w/ 2 levels \"No\",\"Yes\": 1 1 1 2 1 1 2 1 2 1 ...\n",
      " $ visual.blurring   : Factor w/ 2 levels \"No\",\"Yes\": 1 2 1 1 2 2 1 2 1 2 ...\n",
      " $ Itching           : Factor w/ 2 levels \"No\",\"Yes\": 2 1 2 2 2 2 1 2 2 2 ...\n",
      " $ Irritability      : Factor w/ 2 levels \"No\",\"Yes\": 1 1 1 1 2 1 1 2 2 2 ...\n",
      " $ delayed.healing   : Factor w/ 2 levels \"No\",\"Yes\": 2 1 2 2 2 2 2 1 1 1 ...\n",
      " $ partial.paresis   : Factor w/ 2 levels \"No\",\"Yes\": 1 2 1 1 2 1 2 2 2 1 ...\n",
      " $ muscle.stiffness  : Factor w/ 2 levels \"No\",\"Yes\": 2 1 2 1 2 2 1 2 2 1 ...\n",
      " $ Alopecia          : Factor w/ 2 levels \"No\",\"Yes\": 2 2 2 1 2 2 1 1 1 2 ...\n",
      " $ Obesity           : Factor w/ 2 levels \"No\",\"Yes\": 2 1 1 1 2 2 1 1 2 1 ...\n",
      " $ class             : Factor w/ 2 levels \"Negative\",\"Positive\": 2 2 2 2 2 2 2 2 2 2 ...\n"
     ]
    }
   ],
   "source": [
    "#### Structure of data ####\n",
    "\n",
    "str(diabetes_data)"
   ]
  },
  {
   "cell_type": "code",
   "execution_count": 6,
   "id": "suited-lightweight",
   "metadata": {},
   "outputs": [
    {
     "name": "stdout",
     "output_type": "stream",
     "text": [
      "             variable q_zeros p_zeros q_na p_na q_inf p_inf    type unique\n",
      "1                 Age       0       0    0    0     0     0 integer     51\n",
      "2              Gender       0       0    0    0     0     0  factor      2\n",
      "3            Polyuria       0       0    0    0     0     0  factor      2\n",
      "4          Polydipsia       0       0    0    0     0     0  factor      2\n",
      "5  sudden.weight.loss       0       0    0    0     0     0  factor      2\n",
      "6            weakness       0       0    0    0     0     0  factor      2\n",
      "7          Polyphagia       0       0    0    0     0     0  factor      2\n",
      "8      Genital.thrush       0       0    0    0     0     0  factor      2\n",
      "9     visual.blurring       0       0    0    0     0     0  factor      2\n",
      "10            Itching       0       0    0    0     0     0  factor      2\n",
      "11       Irritability       0       0    0    0     0     0  factor      2\n",
      "12    delayed.healing       0       0    0    0     0     0  factor      2\n",
      "13    partial.paresis       0       0    0    0     0     0  factor      2\n",
      "14   muscle.stiffness       0       0    0    0     0     0  factor      2\n",
      "15           Alopecia       0       0    0    0     0     0  factor      2\n",
      "16            Obesity       0       0    0    0     0     0  factor      2\n",
      "17              class       0       0    0    0     0     0  factor      2\n"
     ]
    }
   ],
   "source": [
    "#### Metrics of data: data types, zeros, infinite numbers, and missing values ####\n",
    "\n",
    "df_status(diabetes_data)"
   ]
  },
  {
   "cell_type": "markdown",
   "id": "coastal-toyota",
   "metadata": {},
   "source": [
    "### 3.0 Method"
   ]
  },
  {
   "cell_type": "markdown",
   "id": "established-correspondence",
   "metadata": {},
   "source": [
    "We approached this task in three different stages after importing the dataset into R – a free software environment for statistical computing and graphics. It compiles and runs on a wide variety of UNIX platforms, Windows and MacOS. We used this software on Windows.\n",
    "\n",
    "Exploratory Data Analysis, EDA is the first stage of our approach. This involved the inspection of the dataset for variable types, outlying and possibly wrong records, and other issues. We checked if there are any missing values, inspected the frequency distribution of the target variable class to see, e.g., whether we have an unbalanced classification problem.\n",
    "\n",
    "The second stage is Variable Screening which involves the exploration of the marginal (bivariate) associations between class and each attribute/predictor. For this, we deployed:\n",
    "(a) The parametric two-sample t test and the nonparametric Wilcoxon rank-sum test for continuous predictors, and \n",
    "(b) Two-test of independence and Fisher's exact test for categorical predictors.\n",
    "We made our deductions and conclusions from the resultant p-values from each test for which a liberal threshold significance level, α = 0.25, was applied to remove a few unimportant predictors. This is a key step to reduce the dimension of predictors. For more insight, we also computed and visualized the correlation matrix choosing Pearson’s coefficient. \n",
    "\n",
    "The third and final stage of this work is Data partition. We partitioned the data into two parts, the training data, D1 and the test data, D2, using a ratio of 2:1."
   ]
  },
  {
   "cell_type": "markdown",
   "id": "initial-armenia",
   "metadata": {},
   "source": [
    "#### 3.1 Exploratory Data Analysis, EDA"
   ]
  },
  {
   "cell_type": "markdown",
   "id": "geographic-stanley",
   "metadata": {},
   "source": [
    "##### 3.1.1 Missing check count/percentage\n",
    "\n",
    "The two outputs below agrees with the data metrics above that our dataset is 100% complete without missing or wrong inputs. "
   ]
  },
  {
   "cell_type": "code",
   "execution_count": 7,
   "id": "stock-memphis",
   "metadata": {},
   "outputs": [
    {
     "data": {
      "image/png": "[encoded data removed]",
      "text/plain": [
       "plot without title"
      ]
     },
     "metadata": {},
     "output_type": "display_data"
    }
   ],
   "source": [
    "#### Missing check count/percentage\n",
    "\n",
    "vis_miss(diabetes_data)"
   ]
  },
  {
   "cell_type": "code",
   "execution_count": 8,
   "id": "immune-march",
   "metadata": {},
   "outputs": [
    {
     "data": {
      "image/png": "[encoded data removed]",
      "text/plain": [
       "plot without title"
      ]
     },
     "metadata": {},
     "output_type": "display_data"
    }
   ],
   "source": [
    "#### Visualizing Missing values ####\n",
    "\n",
    "gg_miss_var(diabetes_data)"
   ]
  },
  {
   "cell_type": "markdown",
   "id": "intelligent-outdoors",
   "metadata": {},
   "source": [
    "##### 3.1.2 Frequency distribution\n",
    "\n",
    "The Frequency distribution of the target variable class showed that the ratio of Negatice class to Positive class in our dataset is 5:8. This is in our opinion not unbalanced.\n",
    "\n",
    "Five number summary of the attribute Age showed that the minimum age is 16 years, maximum age is 90 years and mediam age is 47 years, 6 months. Drawing inference from approximately equal median and mean histogram plot, these suggest that the Age distribution is normal but Anderson Darling and Shapiro-Wilk's tests showed (with p-value < 0.05) that the Age distribution is significantly different from normal distribution. Boxplot showed two data points as outliers.\n",
    "\n",
    "Most of other categorical predictors have balanced class except for Genital.thrush which has 22:78, Irritability which has 76:24, and Obesity which has 83:17 class ratio.\n",
    "\n",
    "Overall, we set the ratio threshold of 1:2 as balanced class."
   ]
  },
  {
   "cell_type": "code",
   "execution_count": 9,
   "id": "latest-rebate",
   "metadata": {},
   "outputs": [
    {
     "data": {
      "text/html": [
       "<dl class=dl-horizontal>\n",
       "\t<dt>Negative</dt>\n",
       "\t\t<dd>200</dd>\n",
       "\t<dt>Positive</dt>\n",
       "\t\t<dd>320</dd>\n",
       "</dl>\n"
      ],
      "text/latex": [
       "\\begin{description*}\n",
       "\\item[Negative] 200\n",
       "\\item[Positive] 320\n",
       "\\end{description*}\n"
      ],
      "text/markdown": [
       "Negative\n",
       ":   200Positive\n",
       ":   320\n",
       "\n"
      ],
      "text/plain": [
       "Negative Positive \n",
       "     200      320 "
      ]
     },
     "metadata": {},
     "output_type": "display_data"
    }
   ],
   "source": [
    "#### Frequency distribution of the target variable class ####\n",
    "\n",
    "summary(diabetes_data$class)"
   ]
  },
  {
   "cell_type": "code",
   "execution_count": 10,
   "id": "balanced-secretary",
   "metadata": {},
   "outputs": [
    {
     "data": {
      "text/plain": [
       "   Min. 1st Qu.  Median    Mean 3rd Qu.    Max. \n",
       "  16.00   39.00   47.50   48.03   57.00   90.00 "
      ]
     },
     "metadata": {},
     "output_type": "display_data"
    }
   ],
   "source": [
    "#### Five number summary of quantitative predictor ####\n",
    "\n",
    "summary(diabetes_data$Age)"
   ]
  },
  {
   "cell_type": "code",
   "execution_count": 11,
   "id": "comic-bidding",
   "metadata": {},
   "outputs": [
    {
     "data": {
      "text/plain": [
       "    Gender    Polyuria  Polydipsia sudden.weight.loss weakness  Polyphagia\n",
       " Female:192   No :262   No :287    No :303            No :215   No :283   \n",
       " Male  :328   Yes:258   Yes:233    Yes:217            Yes:305   Yes:237   \n",
       " Genital.thrush visual.blurring Itching   Irritability delayed.healing\n",
       " No :404        No :287         No :267   No :394      No :281        \n",
       " Yes:116        Yes:233         Yes:253   Yes:126      Yes:239        \n",
       " partial.paresis muscle.stiffness Alopecia  Obesity  \n",
       " No :296         No :325          No :341   No :432  \n",
       " Yes:224         Yes:195          Yes:179   Yes: 88  "
      ]
     },
     "metadata": {},
     "output_type": "display_data"
    }
   ],
   "source": [
    "#### Frequency distribution of categorical predictors ####\n",
    "\n",
    "cat_predictors <- subset(diabetes_data, select= -c(Age, class))\n",
    "summary(cat_predictors)"
   ]
  },
  {
   "cell_type": "markdown",
   "id": "understood-rainbow",
   "metadata": {},
   "source": [
    "##### Data visualization"
   ]
  },
  {
   "cell_type": "code",
   "execution_count": 12,
   "id": "casual-sailing",
   "metadata": {},
   "outputs": [
    {
     "data": {
      "image/png": "[encoded data removed]",
      "text/plain": [
       "Plot with title \"Bar chart showing Gender distribution\""
      ]
     },
     "metadata": {},
     "output_type": "display_data"
    },
    {
     "data": {
      "image/png": "[encoded data removed]",
      "text/plain": [
       "Plot with title \"Bar chart showing Polyuria status distribution\""
      ]
     },
     "metadata": {},
     "output_type": "display_data"
    },
    {
     "data": {
      "image/png": "[encoded data removed]",
      "text/plain": [
       "Plot with title \"Bar chart showing Polydipsia status distribution\""
      ]
     },
     "metadata": {},
     "output_type": "display_data"
    },
    {
     "data": {
      "image/png": "[encoded data removed]",
      "text/plain": [
       "Plot with title \"Bar chart showing Sudden weight loss status distribution\""
      ]
     },
     "metadata": {},
     "output_type": "display_data"
    },
    {
     "data": {
      "image/png": "[encoded data removed]",
      "text/plain": [
       "Plot with title \"Bar chart showing Weakness status distribution\""
      ]
     },
     "metadata": {},
     "output_type": "display_data"
    },
    {
     "data": {
      "image/png": "[encoded data removed]",
      "text/plain": [
       "Plot with title \"Bar chart showing Polyphagia status distribution\""
      ]
     },
     "metadata": {},
     "output_type": "display_data"
    },
    {
     "data": {
      "image/png": "[encoded data removed]",
      "text/plain": [
       "Plot with title \"Bar chart showing Genital thrush status distribution\""
      ]
     },
     "metadata": {},
     "output_type": "display_data"
    },
    {
     "data": {
      "image/png": "[encoded data removed]",
      "text/plain": [
       "Plot with title \"Bar chart showing Visual blurring status distribution\""
      ]
     },
     "metadata": {},
     "output_type": "display_data"
    },
    {
     "data": {
      "image/png": "[encoded data removed]",
      "text/plain": [
       "Plot with title \"Bar chart showing Itching status distribution\""
      ]
     },
     "metadata": {},
     "output_type": "display_data"
    },
    {
     "data": {
      "image/png": "[encoded data removed]",
      "text/plain": [
       "Plot with title \"Bar chart showing Irritability status distribution\""
      ]
     },
     "metadata": {},
     "output_type": "display_data"
    },
    {
     "data": {
      "image/png": "[encoded data removed]",
      "text/plain": [
       "Plot with title \"Bar chart showing Delayed healing status distribution\""
      ]
     },
     "metadata": {},
     "output_type": "display_data"
    },
    {
     "data": {
      "image/png": "[encoded data removed]",
      "text/plain": [
       "Plot with title \"Bar chart showing Partial paresis status distribution\""
      ]
     },
     "metadata": {},
     "output_type": "display_data"
    },
    {
     "data": {
      "image/png": "[encoded data removed]",
      "text/plain": [
       "Plot with title \"Bar chart showing Muscle stiffness status distribution\""
      ]
     },
     "metadata": {},
     "output_type": "display_data"
    },
    {
     "data": {
      "image/png": "[encoded data removed]",
      "text/plain": [
       "Plot with title \"Bar chart showing Alopecia status distribution\""
      ]
     },
     "metadata": {},
     "output_type": "display_data"
    },
    {
     "data": {
      "image/png": "[encoded data removed]",
      "text/plain": [
       "Plot with title \"Bar chart showing Obesity status distribution\""
      ]
     },
     "metadata": {},
     "output_type": "display_data"
    },
    {
     "data": {
      "image/png": "[encoded data removed]",
      "text/plain": [
       "Plot with title \"Bar chart showing Diabetes status distribution\""
      ]
     },
     "metadata": {},
     "output_type": "display_data"
    }
   ],
   "source": [
    "#### Visualizing the categorical attributes using barplot ####\n",
    "\n",
    "layout(matrix(c(1,2),4,4))\n",
    "barplot(table(diabetes_data$Gender), main=\"Bar chart showing Gender distribution\", xlab=\"Gender status\")\n",
    "barplot(table(diabetes_data$Polyuria), main=\"Bar chart showing Polyuria status distribution\", xlab=\"Polyuria status\")\n",
    "barplot(table(diabetes_data$Polydipsia), main=\"Bar chart showing Polydipsia status distribution\", xlab=\"Polydipsia status\")\n",
    "barplot(table(diabetes_data$sudden.weight.loss), main=\"Bar chart showing Sudden weight loss status distribution\", xlab=\"Sudden weight loss status\")\n",
    "barplot(table(diabetes_data$weakness), main=\"Bar chart showing Weakness status distribution\", xlab=\"Weakness status\")\n",
    "barplot(table(diabetes_data$Polyphagia), main=\"Bar chart showing Polyphagia status distribution\", xlab=\"Polyphagia status\")\n",
    "barplot(table(diabetes_data$Genital.thrush), main=\"Bar chart showing Genital thrush status distribution\", xlab=\"Genital thrush status\")\n",
    "barplot(table(diabetes_data$visual.blurring), main=\"Bar chart showing Visual blurring status distribution\", xlab=\"Visual blurring status\")\n",
    "barplot(table(diabetes_data$Itching), main=\"Bar chart showing Itching status distribution\", xlab=\"Itching status\")\n",
    "barplot(table(diabetes_data$Irritability), main=\"Bar chart showing Irritability status distribution\", xlab=\"Irritability status\")\n",
    "barplot(table(diabetes_data$delayed.healing), main=\"Bar chart showing Delayed healing status distribution\", xlab=\"Delayed healing status\")\n",
    "barplot(table(diabetes_data$partial.paresis), main=\"Bar chart showing Partial paresis status distribution\", xlab=\"Partial paresis status\")\n",
    "barplot(table(diabetes_data$muscle.stiffness), main=\"Bar chart showing Muscle stiffness status distribution\", xlab=\"Muscle stiffness status\")\n",
    "barplot(table(diabetes_data$Alopecia), main=\"Bar chart showing Alopecia status distribution\", xlab=\"Alopecia status\")\n",
    "barplot(table(diabetes_data$Obesity), main=\"Bar chart showing Obesity status distribution\", xlab=\"Obesity status\")\n",
    "barplot(table(diabetes_data$class), main=\"Bar chart showing Diabetes status distribution\", xlab=\"Diabetes status\")"
   ]
  },
  {
   "cell_type": "code",
   "execution_count": 13,
   "id": "grave-blink",
   "metadata": {},
   "outputs": [
    {
     "data": {
      "image/png": "[encoded data removed]",
      "text/plain": [
       "Plot with title \"Histogram showing Age distribution of patients\""
      ]
     },
     "metadata": {},
     "output_type": "display_data"
    },
    {
     "data": {
      "image/png": "[encoded data removed]",
      "text/plain": [
       "Plot with title \"Boxplot showing Age distribution of patients\""
      ]
     },
     "metadata": {},
     "output_type": "display_data"
    }
   ],
   "source": [
    "#### visualizing quantitative variable to check for distrbution ####\n",
    "\n",
    "hist(diabetes_data$Age, main=\"Histogram showing Age distribution of patients\", xlab=\"Ages\")\n",
    "boxplot(diabetes_data$Age, main=\"Boxplot showing Age distribution of patients\", ylab=\"Ages\")"
   ]
  },
  {
   "cell_type": "code",
   "execution_count": 14,
   "id": "fuzzy-heading",
   "metadata": {},
   "outputs": [
    {
     "data": {
      "text/plain": [
       "\n",
       "\tAnderson-Darling normality test\n",
       "\n",
       "data:  diabetes_data$Age\n",
       "A = 1.9758, p-value = 4.871e-05\n"
      ]
     },
     "metadata": {},
     "output_type": "display_data"
    },
    {
     "data": {
      "text/plain": [
       "\n",
       "\tShapiro-Wilk normality test\n",
       "\n",
       "data:  diabetes_data$Age\n",
       "W = 0.98313, p-value = 9.992e-06\n"
      ]
     },
     "metadata": {},
     "output_type": "display_data"
    }
   ],
   "source": [
    "#### Tests to check the distribution of Age\n",
    "\n",
    "ad.test(diabetes_data$Age)\n",
    "shapiro.test(diabetes_data$Age)"
   ]
  },
  {
   "cell_type": "markdown",
   "id": "brilliant-music",
   "metadata": {},
   "source": [
    "#### 3.2 Variable Screening"
   ]
  },
  {
   "cell_type": "markdown",
   "id": "prompt-nerve",
   "metadata": {},
   "source": [
    "##### 3.2.1 Variables encoding\n",
    "We assigned dummy variables to the categorical attributes using alphabetical order from 0 to 1.\n",
    "\n",
    "##### 3.2.2 Tests\n",
    "Wilcoxon rank-sum test performs one- and two-sample Wilcoxon tests on vectors of data; the latter is also known as ‘Mann-Whitney’ test and is deployed in this work. It is a non-parametric alternative to the unpaired two-samples t-test, which can be used to compare two independent groups of samples. The null and alternative hypothesis are as follows:\n",
    "\n",
    "Null hypothesis (H0): the median Age of those who tested positive for diabetes is same as the median Age of those who tested negative.\n",
    "Alternative hypothesis (H1): the median Age of those who tested positive for diabetes is significantly different from the median Age of those who tested negative.\n",
    "\n",
    "Chi-square test examines whether rows and columns of a contingency table are statistically significantly associated. The null and alternative hypothesis are as follows:\n",
    "\n",
    "Null hypothesis (H0): the row and the column variables of the contingency table are independent/not associated.\n",
    "Alternative hypothesis (H1): row and column variables are dependent/associated.\n",
    "\n",
    "We output the resultant p-value for each predictor and applied a liberal threshold significance of 0.25, to remove a few unimportant predictors. Applying a liberal threshold for statistical significance here helps prevent removing predictors that are apparently not associated with the target variable without considering other predictors but may become important in a model when adding (or adjusting for) other predictors.\n",
    "\n",
    "##### Conclusion:\n",
    "From the outputs of our tests below, we can conclude that the median Age of those who tested positive for diabetes is significantly different from the median Age of those who tested negative. Hence, the attribute Age is significant.\n",
    "Also, we fail to reject the null hypothesis for Itching and delayed.healing from the Chi-square test of indepence carried out and conclude that they are both independent or not associated with the being diabetic or not.\n",
    "Whether these variables (Itching and delayed.healing) would be screened out will be decided when we start working on the predictive modelling."
   ]
  },
  {
   "cell_type": "code",
   "execution_count": 15,
   "id": "unsigned-special",
   "metadata": {},
   "outputs": [],
   "source": [
    "#### Changing the variable age from character type to numeric type ####\n",
    "\n",
    "diabetes_data$Age <- as.numeric(as.character(diabetes_data$Age))\n",
    "\n",
    "#### Making numeric values 1 and 0 for categorical variable ####\n",
    "\n",
    "diabetes_data$Gender <- ifelse(diabetes_data$Gender==\"Female\", 0, 1)\n",
    "diabetes_data$Polyuria <- ifelse(diabetes_data$Polyuria==\"No\", 0, 1)\n",
    "diabetes_data$Polydipsia <- ifelse(diabetes_data$Polydipsia==\"No\", 0, 1)\n",
    "diabetes_data$sudden.weight.loss <- ifelse(diabetes_data$sudden.weight.loss==\"No\", 0, 1)\n",
    "diabetes_data$weakness <- ifelse(diabetes_data$weakness==\"No\", 0, 1)\n",
    "diabetes_data$Polyphagia <- ifelse(diabetes_data$Polyphagia==\"No\", 0, 1)\n",
    "diabetes_data$Genital.thrush <- ifelse(diabetes_data$Genital.thrush==\"No\", 0, 1)\n",
    "diabetes_data$visual.blurring <- ifelse(diabetes_data$visual.blurring==\"No\", 0, 1)\n",
    "diabetes_data$Itching <- ifelse(diabetes_data$Itching==\"No\", 0, 1)\n",
    "diabetes_data$Irritability <- ifelse(diabetes_data$Irritability==\"No\", 0, 1)\n",
    "diabetes_data$delayed.healing <- ifelse(diabetes_data$delayed.healing==\"No\", 0, 1)\n",
    "diabetes_data$partial.paresis <- ifelse(diabetes_data$partial.paresis==\"No\", 0, 1)\n",
    "diabetes_data$muscle.stiffness <- ifelse(diabetes_data$muscle.stiffness==\"No\", 0, 1)\n",
    "diabetes_data$Alopecia <- ifelse(diabetes_data$Alopecia==\"No\", 0, 1)\n",
    "diabetes_data$Obesity <- ifelse(diabetes_data$Obesity==\"No\", 0, 1)\n",
    "diabetes_data$class <- ifelse(diabetes_data$class==\"Negative\", 0, 1)"
   ]
  },
  {
   "cell_type": "code",
   "execution_count": 16,
   "id": "median-uncle",
   "metadata": {},
   "outputs": [
    {
     "data": {
      "text/html": [
       "<table>\n",
       "<thead><tr><th scope=col>Age</th><th scope=col>Gender</th><th scope=col>Polyuria</th><th scope=col>Polydipsia</th><th scope=col>sudden.weight.loss</th><th scope=col>weakness</th><th scope=col>Polyphagia</th><th scope=col>Genital.thrush</th><th scope=col>visual.blurring</th><th scope=col>Itching</th><th scope=col>Irritability</th><th scope=col>delayed.healing</th><th scope=col>partial.paresis</th><th scope=col>muscle.stiffness</th><th scope=col>Alopecia</th><th scope=col>Obesity</th><th scope=col>class</th></tr></thead>\n",
       "<tbody>\n",
       "\t<tr><td>40</td><td>1 </td><td>0 </td><td>1 </td><td>0 </td><td>1 </td><td>0 </td><td>0 </td><td>0 </td><td>1 </td><td>0 </td><td>1 </td><td>0 </td><td>1 </td><td>1 </td><td>1 </td><td>1 </td></tr>\n",
       "\t<tr><td>58</td><td>1 </td><td>0 </td><td>0 </td><td>0 </td><td>1 </td><td>0 </td><td>0 </td><td>1 </td><td>0 </td><td>0 </td><td>0 </td><td>1 </td><td>0 </td><td>1 </td><td>0 </td><td>1 </td></tr>\n",
       "\t<tr><td>41</td><td>1 </td><td>1 </td><td>0 </td><td>0 </td><td>1 </td><td>1 </td><td>0 </td><td>0 </td><td>1 </td><td>0 </td><td>1 </td><td>0 </td><td>1 </td><td>1 </td><td>0 </td><td>1 </td></tr>\n",
       "\t<tr><td>45</td><td>1 </td><td>0 </td><td>0 </td><td>1 </td><td>1 </td><td>1 </td><td>1 </td><td>0 </td><td>1 </td><td>0 </td><td>1 </td><td>0 </td><td>0 </td><td>0 </td><td>0 </td><td>1 </td></tr>\n",
       "\t<tr><td>60</td><td>1 </td><td>1 </td><td>1 </td><td>1 </td><td>1 </td><td>1 </td><td>0 </td><td>1 </td><td>1 </td><td>1 </td><td>1 </td><td>1 </td><td>1 </td><td>1 </td><td>1 </td><td>1 </td></tr>\n",
       "\t<tr><td>55</td><td>1 </td><td>1 </td><td>1 </td><td>0 </td><td>1 </td><td>1 </td><td>0 </td><td>1 </td><td>1 </td><td>0 </td><td>1 </td><td>0 </td><td>1 </td><td>1 </td><td>1 </td><td>1 </td></tr>\n",
       "</tbody>\n",
       "</table>\n"
      ],
      "text/latex": [
       "\\begin{tabular}{r|lllllllllllllllll}\n",
       " Age & Gender & Polyuria & Polydipsia & sudden.weight.loss & weakness & Polyphagia & Genital.thrush & visual.blurring & Itching & Irritability & delayed.healing & partial.paresis & muscle.stiffness & Alopecia & Obesity & class\\\\\n",
       "\\hline\n",
       "\t 40 & 1  & 0  & 1  & 0  & 1  & 0  & 0  & 0  & 1  & 0  & 1  & 0  & 1  & 1  & 1  & 1 \\\\\n",
       "\t 58 & 1  & 0  & 0  & 0  & 1  & 0  & 0  & 1  & 0  & 0  & 0  & 1  & 0  & 1  & 0  & 1 \\\\\n",
       "\t 41 & 1  & 1  & 0  & 0  & 1  & 1  & 0  & 0  & 1  & 0  & 1  & 0  & 1  & 1  & 0  & 1 \\\\\n",
       "\t 45 & 1  & 0  & 0  & 1  & 1  & 1  & 1  & 0  & 1  & 0  & 1  & 0  & 0  & 0  & 0  & 1 \\\\\n",
       "\t 60 & 1  & 1  & 1  & 1  & 1  & 1  & 0  & 1  & 1  & 1  & 1  & 1  & 1  & 1  & 1  & 1 \\\\\n",
       "\t 55 & 1  & 1  & 1  & 0  & 1  & 1  & 0  & 1  & 1  & 0  & 1  & 0  & 1  & 1  & 1  & 1 \\\\\n",
       "\\end{tabular}\n"
      ],
      "text/markdown": [
       "\n",
       "| Age | Gender | Polyuria | Polydipsia | sudden.weight.loss | weakness | Polyphagia | Genital.thrush | visual.blurring | Itching | Irritability | delayed.healing | partial.paresis | muscle.stiffness | Alopecia | Obesity | class |\n",
       "|---|---|---|---|---|---|---|---|---|---|---|---|---|---|---|---|---|\n",
       "| 40 | 1  | 0  | 1  | 0  | 1  | 0  | 0  | 0  | 1  | 0  | 1  | 0  | 1  | 1  | 1  | 1  |\n",
       "| 58 | 1  | 0  | 0  | 0  | 1  | 0  | 0  | 1  | 0  | 0  | 0  | 1  | 0  | 1  | 0  | 1  |\n",
       "| 41 | 1  | 1  | 0  | 0  | 1  | 1  | 0  | 0  | 1  | 0  | 1  | 0  | 1  | 1  | 0  | 1  |\n",
       "| 45 | 1  | 0  | 0  | 1  | 1  | 1  | 1  | 0  | 1  | 0  | 1  | 0  | 0  | 0  | 0  | 1  |\n",
       "| 60 | 1  | 1  | 1  | 1  | 1  | 1  | 0  | 1  | 1  | 1  | 1  | 1  | 1  | 1  | 1  | 1  |\n",
       "| 55 | 1  | 1  | 1  | 0  | 1  | 1  | 0  | 1  | 1  | 0  | 1  | 0  | 1  | 1  | 1  | 1  |\n",
       "\n"
      ],
      "text/plain": [
       "  Age Gender Polyuria Polydipsia sudden.weight.loss weakness Polyphagia\n",
       "1 40  1      0        1          0                  1        0         \n",
       "2 58  1      0        0          0                  1        0         \n",
       "3 41  1      1        0          0                  1        1         \n",
       "4 45  1      0        0          1                  1        1         \n",
       "5 60  1      1        1          1                  1        1         \n",
       "6 55  1      1        1          0                  1        1         \n",
       "  Genital.thrush visual.blurring Itching Irritability delayed.healing\n",
       "1 0              0               1       0            1              \n",
       "2 0              1               0       0            0              \n",
       "3 0              0               1       0            1              \n",
       "4 1              0               1       0            1              \n",
       "5 0              1               1       1            1              \n",
       "6 0              1               1       0            1              \n",
       "  partial.paresis muscle.stiffness Alopecia Obesity class\n",
       "1 0               1                1        1       1    \n",
       "2 1               0                1        0       1    \n",
       "3 0               1                1        0       1    \n",
       "4 0               0                0        0       1    \n",
       "5 1               1                1        1       1    \n",
       "6 0               1                1        1       1    "
      ]
     },
     "metadata": {},
     "output_type": "display_data"
    }
   ],
   "source": [
    "head(diabetes_data)"
   ]
  },
  {
   "cell_type": "code",
   "execution_count": 17,
   "id": "nominated-involvement",
   "metadata": {},
   "outputs": [
    {
     "data": {
      "text/html": [
       "<ol class=list-inline>\n",
       "\t<li>520</li>\n",
       "\t<li>17</li>\n",
       "</ol>\n"
      ],
      "text/latex": [
       "\\begin{enumerate*}\n",
       "\\item 520\n",
       "\\item 17\n",
       "\\end{enumerate*}\n"
      ],
      "text/markdown": [
       "1. 520\n",
       "2. 17\n",
       "\n",
       "\n"
      ],
      "text/plain": [
       "[1] 520  17"
      ]
     },
     "metadata": {},
     "output_type": "display_data"
    }
   ],
   "source": [
    "dim(diabetes_data)"
   ]
  },
  {
   "cell_type": "code",
   "execution_count": 18,
   "id": "virtual-appointment",
   "metadata": {},
   "outputs": [
    {
     "data": {
      "text/plain": [
       "\n",
       "\tPearson's Chi-squared test with Yates' continuity correction\n",
       "\n",
       "data:  diabetes_data$Polyuria and diabetes_data$class\n",
       "X-squared = 227.87, df = 1, p-value < 2.2e-16\n"
      ]
     },
     "metadata": {},
     "output_type": "display_data"
    },
    {
     "data": {
      "text/plain": [
       "\n",
       "\tPearson's Chi-squared test with Yates' continuity correction\n",
       "\n",
       "data:  diabetes_data$Gender and diabetes_data$class\n",
       "X-squared = 103.04, df = 1, p-value < 2.2e-16\n"
      ]
     },
     "metadata": {},
     "output_type": "display_data"
    },
    {
     "data": {
      "text/plain": [
       "\n",
       "\tPearson's Chi-squared test with Yates' continuity correction\n",
       "\n",
       "data:  diabetes_data$Polydipsia and diabetes_data$class\n",
       "X-squared = 216.17, df = 1, p-value < 2.2e-16\n"
      ]
     },
     "metadata": {},
     "output_type": "display_data"
    },
    {
     "data": {
      "text/plain": [
       "\n",
       "\tPearson's Chi-squared test with Yates' continuity correction\n",
       "\n",
       "data:  diabetes_data$sudden.weight.loss and diabetes_data$class\n",
       "X-squared = 97.296, df = 1, p-value < 2.2e-16\n"
      ]
     },
     "metadata": {},
     "output_type": "display_data"
    },
    {
     "data": {
      "text/plain": [
       "\n",
       "\tPearson's Chi-squared test with Yates' continuity correction\n",
       "\n",
       "data:  diabetes_data$weakness and diabetes_data$class\n",
       "X-squared = 29.768, df = 1, p-value = 4.87e-08\n"
      ]
     },
     "metadata": {},
     "output_type": "display_data"
    },
    {
     "data": {
      "text/plain": [
       "\n",
       "\tPearson's Chi-squared test with Yates' continuity correction\n",
       "\n",
       "data:  diabetes_data$Polyphagia and diabetes_data$class\n",
       "X-squared = 59.595, df = 1, p-value = 1.165e-14\n"
      ]
     },
     "metadata": {},
     "output_type": "display_data"
    },
    {
     "data": {
      "text/plain": [
       "\n",
       "\tPearson's Chi-squared test with Yates' continuity correction\n",
       "\n",
       "data:  diabetes_data$Genital.thrush and diabetes_data$class\n",
       "X-squared = 5.7921, df = 1, p-value = 0.0161\n"
      ]
     },
     "metadata": {},
     "output_type": "display_data"
    },
    {
     "data": {
      "text/plain": [
       "\n",
       "\tPearson's Chi-squared test with Yates' continuity correction\n",
       "\n",
       "data:  diabetes_data$visual.blurring and diabetes_data$class\n",
       "X-squared = 31.808, df = 1, p-value = 1.702e-08\n"
      ]
     },
     "metadata": {},
     "output_type": "display_data"
    },
    {
     "data": {
      "text/plain": [
       "\n",
       "\tPearson's Chi-squared test with Yates' continuity correction\n",
       "\n",
       "data:  diabetes_data$Itching and diabetes_data$class\n",
       "X-squared = 0.046235, df = 1, p-value = 0.8297\n"
      ]
     },
     "metadata": {},
     "output_type": "display_data"
    },
    {
     "data": {
      "text/plain": [
       "\n",
       "\tPearson's Chi-squared test with Yates' continuity correction\n",
       "\n",
       "data:  diabetes_data$Irritability and diabetes_data$class\n",
       "X-squared = 45.208, df = 1, p-value = 1.771e-11\n"
      ]
     },
     "metadata": {},
     "output_type": "display_data"
    },
    {
     "data": {
      "text/plain": [
       "\n",
       "\tPearson's Chi-squared test with Yates' continuity correction\n",
       "\n",
       "data:  diabetes_data$delayed.healing and diabetes_data$class\n",
       "X-squared = 0.96209, df = 1, p-value = 0.3267\n"
      ]
     },
     "metadata": {},
     "output_type": "display_data"
    },
    {
     "data": {
      "text/plain": [
       "\n",
       "\tPearson's Chi-squared test with Yates' continuity correction\n",
       "\n",
       "data:  diabetes_data$partial.paresis and diabetes_data$class\n",
       "X-squared = 95.388, df = 1, p-value < 2.2e-16\n"
      ]
     },
     "metadata": {},
     "output_type": "display_data"
    },
    {
     "data": {
      "text/plain": [
       "\n",
       "\tPearson's Chi-squared test with Yates' continuity correction\n",
       "\n",
       "data:  diabetes_data$muscle.stiffness and diabetes_data$class\n",
       "X-squared = 7.2887, df = 1, p-value = 0.006939\n"
      ]
     },
     "metadata": {},
     "output_type": "display_data"
    },
    {
     "data": {
      "text/plain": [
       "\n",
       "\tPearson's Chi-squared test with Yates' continuity correction\n",
       "\n",
       "data:  diabetes_data$Alopecia and diabetes_data$class\n",
       "X-squared = 36.064, df = 1, p-value = 1.909e-09\n"
      ]
     },
     "metadata": {},
     "output_type": "display_data"
    },
    {
     "data": {
      "text/plain": [
       "\n",
       "\tPearson's Chi-squared test with Yates' continuity correction\n",
       "\n",
       "data:  diabetes_data$Obesity and diabetes_data$class\n",
       "X-squared = 2.3275, df = 1, p-value = 0.1271\n"
      ]
     },
     "metadata": {},
     "output_type": "display_data"
    },
    {
     "data": {
      "text/plain": [
       "\n",
       "\tWilcoxon signed rank test with continuity correction\n",
       "\n",
       "data:  diabetes_data$Age\n",
       "V = 135460, p-value < 2.2e-16\n",
       "alternative hypothesis: true location is not equal to 0\n"
      ]
     },
     "metadata": {},
     "output_type": "display_data"
    }
   ],
   "source": [
    "#### Chi-Square test of independence on the categorical variable ####\n",
    "\n",
    "chisq.test(diabetes_data$Polyuria, diabetes_data$class)\n",
    "chisq.test(diabetes_data$Gender, diabetes_data$class)\n",
    "chisq.test(diabetes_data$Polydipsia, diabetes_data$class)\n",
    "chisq.test(diabetes_data$sudden.weight.loss, diabetes_data$class)\n",
    "chisq.test(diabetes_data$weakness, diabetes_data$class)\n",
    "chisq.test(diabetes_data$Polyphagia, diabetes_data$class)\n",
    "chisq.test(diabetes_data$Genital.thrush, diabetes_data$class)\n",
    "chisq.test(diabetes_data$visual.blurring, diabetes_data$class)\n",
    "chisq.test(diabetes_data$Itching, diabetes_data$class)\n",
    "chisq.test(diabetes_data$Irritability, diabetes_data$class)\n",
    "chisq.test(diabetes_data$delayed.healing, diabetes_data$class)\n",
    "chisq.test(diabetes_data$partial.paresis, diabetes_data$class)\n",
    "chisq.test(diabetes_data$muscle.stiffness, diabetes_data$class)\n",
    "chisq.test(diabetes_data$Alopecia, diabetes_data$class)\n",
    "chisq.test(diabetes_data$Obesity, diabetes_data$class)\n",
    "\n",
    "#### Wilcoxon rank sum test to compare two independent groups of samples ####\n",
    "\n",
    "wilcox.test(diabetes_data$Age, diabetes_data$new_class, alternative=\"two.sided\", exact = FALSE)"
   ]
  },
  {
   "cell_type": "markdown",
   "id": "forced-custom",
   "metadata": {},
   "source": [
    "#### 3.3 Data Partition\n",
    "\n",
    "Here, we partitioned the data into two parts, the training data, D1 and the test data, D2, with a ratio of 2:1. We then printed the first 6 rows of training data and the last 5 rows of testing data."
   ]
  },
  {
   "cell_type": "code",
   "execution_count": 19,
   "id": "known-episode",
   "metadata": {},
   "outputs": [],
   "source": [
    "#### Splitting the data into train and test ####\n",
    "\n",
    "set.seed(123)\n",
    "n <- nrow(diabetes_data)\n",
    "id.split <- sample(x = 1:2, size = n, replace = TRUE, prob=c(0.67, 0.33))\n",
    "D1 <- diabetes_data[id.split == 1, ]\n",
    "D2 <- diabetes_data[id.split == 2, ]"
   ]
  },
  {
   "cell_type": "code",
   "execution_count": 20,
   "id": "divine-painting",
   "metadata": {},
   "outputs": [
    {
     "data": {
      "text/html": [
       "'Top 6 rows of training data, D1'"
      ],
      "text/latex": [
       "'Top 6 rows of training data, D1'"
      ],
      "text/markdown": [
       "'Top 6 rows of training data, D1'"
      ],
      "text/plain": [
       "[1] \"Top 6 rows of training data, D1\""
      ]
     },
     "metadata": {},
     "output_type": "display_data"
    },
    {
     "data": {
      "text/html": [
       "<table>\n",
       "<thead><tr><th></th><th scope=col>Age</th><th scope=col>Gender</th><th scope=col>Polyuria</th><th scope=col>Polydipsia</th><th scope=col>sudden.weight.loss</th><th scope=col>weakness</th><th scope=col>Polyphagia</th><th scope=col>Genital.thrush</th><th scope=col>visual.blurring</th><th scope=col>Itching</th><th scope=col>Irritability</th><th scope=col>delayed.healing</th><th scope=col>partial.paresis</th><th scope=col>muscle.stiffness</th><th scope=col>Alopecia</th><th scope=col>Obesity</th><th scope=col>class</th></tr></thead>\n",
       "<tbody>\n",
       "\t<tr><th scope=row>1</th><td>40</td><td>1 </td><td>0 </td><td>1 </td><td>0 </td><td>1 </td><td>0 </td><td>0 </td><td>0 </td><td>1 </td><td>0 </td><td>1 </td><td>0 </td><td>1 </td><td>1 </td><td>1 </td><td>1 </td></tr>\n",
       "\t<tr><th scope=row>3</th><td>41</td><td>1 </td><td>1 </td><td>0 </td><td>0 </td><td>1 </td><td>1 </td><td>0 </td><td>0 </td><td>1 </td><td>0 </td><td>1 </td><td>0 </td><td>1 </td><td>1 </td><td>0 </td><td>1 </td></tr>\n",
       "\t<tr><th scope=row>6</th><td>55</td><td>1 </td><td>1 </td><td>1 </td><td>0 </td><td>1 </td><td>1 </td><td>0 </td><td>1 </td><td>1 </td><td>0 </td><td>1 </td><td>0 </td><td>1 </td><td>1 </td><td>1 </td><td>1 </td></tr>\n",
       "\t<tr><th scope=row>7</th><td>57</td><td>1 </td><td>1 </td><td>1 </td><td>0 </td><td>1 </td><td>1 </td><td>1 </td><td>0 </td><td>0 </td><td>0 </td><td>1 </td><td>1 </td><td>0 </td><td>0 </td><td>0 </td><td>1 </td></tr>\n",
       "\t<tr><th scope=row>9</th><td>67</td><td>1 </td><td>1 </td><td>1 </td><td>0 </td><td>1 </td><td>1 </td><td>1 </td><td>0 </td><td>1 </td><td>1 </td><td>0 </td><td>1 </td><td>1 </td><td>0 </td><td>1 </td><td>1 </td></tr>\n",
       "\t<tr><th scope=row>10</th><td>70</td><td>1 </td><td>0 </td><td>1 </td><td>1 </td><td>1 </td><td>1 </td><td>0 </td><td>1 </td><td>1 </td><td>1 </td><td>0 </td><td>0 </td><td>0 </td><td>1 </td><td>0 </td><td>1 </td></tr>\n",
       "</tbody>\n",
       "</table>\n"
      ],
      "text/latex": [
       "\\begin{tabular}{r|lllllllllllllllll}\n",
       "  & Age & Gender & Polyuria & Polydipsia & sudden.weight.loss & weakness & Polyphagia & Genital.thrush & visual.blurring & Itching & Irritability & delayed.healing & partial.paresis & muscle.stiffness & Alopecia & Obesity & class\\\\\n",
       "\\hline\n",
       "\t1 & 40 & 1  & 0  & 1  & 0  & 1  & 0  & 0  & 0  & 1  & 0  & 1  & 0  & 1  & 1  & 1  & 1 \\\\\n",
       "\t3 & 41 & 1  & 1  & 0  & 0  & 1  & 1  & 0  & 0  & 1  & 0  & 1  & 0  & 1  & 1  & 0  & 1 \\\\\n",
       "\t6 & 55 & 1  & 1  & 1  & 0  & 1  & 1  & 0  & 1  & 1  & 0  & 1  & 0  & 1  & 1  & 1  & 1 \\\\\n",
       "\t7 & 57 & 1  & 1  & 1  & 0  & 1  & 1  & 1  & 0  & 0  & 0  & 1  & 1  & 0  & 0  & 0  & 1 \\\\\n",
       "\t9 & 67 & 1  & 1  & 1  & 0  & 1  & 1  & 1  & 0  & 1  & 1  & 0  & 1  & 1  & 0  & 1  & 1 \\\\\n",
       "\t10 & 70 & 1  & 0  & 1  & 1  & 1  & 1  & 0  & 1  & 1  & 1  & 0  & 0  & 0  & 1  & 0  & 1 \\\\\n",
       "\\end{tabular}\n"
      ],
      "text/markdown": [
       "\n",
       "| <!--/--> | Age | Gender | Polyuria | Polydipsia | sudden.weight.loss | weakness | Polyphagia | Genital.thrush | visual.blurring | Itching | Irritability | delayed.healing | partial.paresis | muscle.stiffness | Alopecia | Obesity | class |\n",
       "|---|---|---|---|---|---|---|---|---|---|---|---|---|---|---|---|---|---|\n",
       "| 1 | 40 | 1  | 0  | 1  | 0  | 1  | 0  | 0  | 0  | 1  | 0  | 1  | 0  | 1  | 1  | 1  | 1  |\n",
       "| 3 | 41 | 1  | 1  | 0  | 0  | 1  | 1  | 0  | 0  | 1  | 0  | 1  | 0  | 1  | 1  | 0  | 1  |\n",
       "| 6 | 55 | 1  | 1  | 1  | 0  | 1  | 1  | 0  | 1  | 1  | 0  | 1  | 0  | 1  | 1  | 1  | 1  |\n",
       "| 7 | 57 | 1  | 1  | 1  | 0  | 1  | 1  | 1  | 0  | 0  | 0  | 1  | 1  | 0  | 0  | 0  | 1  |\n",
       "| 9 | 67 | 1  | 1  | 1  | 0  | 1  | 1  | 1  | 0  | 1  | 1  | 0  | 1  | 1  | 0  | 1  | 1  |\n",
       "| 10 | 70 | 1  | 0  | 1  | 1  | 1  | 1  | 0  | 1  | 1  | 1  | 0  | 0  | 0  | 1  | 0  | 1  |\n",
       "\n"
      ],
      "text/plain": [
       "   Age Gender Polyuria Polydipsia sudden.weight.loss weakness Polyphagia\n",
       "1  40  1      0        1          0                  1        0         \n",
       "3  41  1      1        0          0                  1        1         \n",
       "6  55  1      1        1          0                  1        1         \n",
       "7  57  1      1        1          0                  1        1         \n",
       "9  67  1      1        1          0                  1        1         \n",
       "10 70  1      0        1          1                  1        1         \n",
       "   Genital.thrush visual.blurring Itching Irritability delayed.healing\n",
       "1  0              0               1       0            1              \n",
       "3  0              0               1       0            1              \n",
       "6  0              1               1       0            1              \n",
       "7  1              0               0       0            1              \n",
       "9  1              0               1       1            0              \n",
       "10 0              1               1       1            0              \n",
       "   partial.paresis muscle.stiffness Alopecia Obesity class\n",
       "1  0               1                1        1       1    \n",
       "3  0               1                1        0       1    \n",
       "6  0               1                1        1       1    \n",
       "7  1               0                0        0       1    \n",
       "9  1               1                0        1       1    \n",
       "10 0               0                1        0       1    "
      ]
     },
     "metadata": {},
     "output_type": "display_data"
    },
    {
     "data": {
      "text/html": [
       "'Bottom 5 rows of test data, D2'"
      ],
      "text/latex": [
       "'Bottom 5 rows of test data, D2'"
      ],
      "text/markdown": [
       "'Bottom 5 rows of test data, D2'"
      ],
      "text/plain": [
       "[1] \"Bottom 5 rows of test data, D2\""
      ]
     },
     "metadata": {},
     "output_type": "display_data"
    },
    {
     "data": {
      "text/html": [
       "<table>\n",
       "<thead><tr><th></th><th scope=col>Age</th><th scope=col>Gender</th><th scope=col>Polyuria</th><th scope=col>Polydipsia</th><th scope=col>sudden.weight.loss</th><th scope=col>weakness</th><th scope=col>Polyphagia</th><th scope=col>Genital.thrush</th><th scope=col>visual.blurring</th><th scope=col>Itching</th><th scope=col>Irritability</th><th scope=col>delayed.healing</th><th scope=col>partial.paresis</th><th scope=col>muscle.stiffness</th><th scope=col>Alopecia</th><th scope=col>Obesity</th><th scope=col>class</th></tr></thead>\n",
       "<tbody>\n",
       "\t<tr><th scope=row>509</th><td>58</td><td>1 </td><td>0 </td><td>0 </td><td>0 </td><td>1 </td><td>0 </td><td>0 </td><td>0 </td><td>1 </td><td>0 </td><td>1 </td><td>0 </td><td>1 </td><td>1 </td><td>0 </td><td>0 </td></tr>\n",
       "\t<tr><th scope=row>513</th><td>43</td><td>1 </td><td>0 </td><td>0 </td><td>0 </td><td>0 </td><td>0 </td><td>0 </td><td>0 </td><td>0 </td><td>0 </td><td>0 </td><td>0 </td><td>0 </td><td>1 </td><td>0 </td><td>0 </td></tr>\n",
       "\t<tr><th scope=row>515</th><td>54</td><td>0 </td><td>1 </td><td>1 </td><td>1 </td><td>1 </td><td>1 </td><td>0 </td><td>0 </td><td>0 </td><td>0 </td><td>0 </td><td>1 </td><td>0 </td><td>0 </td><td>0 </td><td>1 </td></tr>\n",
       "\t<tr><th scope=row>518</th><td>58</td><td>0 </td><td>1 </td><td>1 </td><td>1 </td><td>1 </td><td>1 </td><td>0 </td><td>1 </td><td>0 </td><td>0 </td><td>0 </td><td>1 </td><td>1 </td><td>0 </td><td>1 </td><td>1 </td></tr>\n",
       "\t<tr><th scope=row>520</th><td>42</td><td>1 </td><td>0 </td><td>0 </td><td>0 </td><td>0 </td><td>0 </td><td>0 </td><td>0 </td><td>0 </td><td>0 </td><td>0 </td><td>0 </td><td>0 </td><td>0 </td><td>0 </td><td>0 </td></tr>\n",
       "</tbody>\n",
       "</table>\n"
      ],
      "text/latex": [
       "\\begin{tabular}{r|lllllllllllllllll}\n",
       "  & Age & Gender & Polyuria & Polydipsia & sudden.weight.loss & weakness & Polyphagia & Genital.thrush & visual.blurring & Itching & Irritability & delayed.healing & partial.paresis & muscle.stiffness & Alopecia & Obesity & class\\\\\n",
       "\\hline\n",
       "\t509 & 58 & 1  & 0  & 0  & 0  & 1  & 0  & 0  & 0  & 1  & 0  & 1  & 0  & 1  & 1  & 0  & 0 \\\\\n",
       "\t513 & 43 & 1  & 0  & 0  & 0  & 0  & 0  & 0  & 0  & 0  & 0  & 0  & 0  & 0  & 1  & 0  & 0 \\\\\n",
       "\t515 & 54 & 0  & 1  & 1  & 1  & 1  & 1  & 0  & 0  & 0  & 0  & 0  & 1  & 0  & 0  & 0  & 1 \\\\\n",
       "\t518 & 58 & 0  & 1  & 1  & 1  & 1  & 1  & 0  & 1  & 0  & 0  & 0  & 1  & 1  & 0  & 1  & 1 \\\\\n",
       "\t520 & 42 & 1  & 0  & 0  & 0  & 0  & 0  & 0  & 0  & 0  & 0  & 0  & 0  & 0  & 0  & 0  & 0 \\\\\n",
       "\\end{tabular}\n"
      ],
      "text/markdown": [
       "\n",
       "| <!--/--> | Age | Gender | Polyuria | Polydipsia | sudden.weight.loss | weakness | Polyphagia | Genital.thrush | visual.blurring | Itching | Irritability | delayed.healing | partial.paresis | muscle.stiffness | Alopecia | Obesity | class |\n",
       "|---|---|---|---|---|---|---|---|---|---|---|---|---|---|---|---|---|---|\n",
       "| 509 | 58 | 1  | 0  | 0  | 0  | 1  | 0  | 0  | 0  | 1  | 0  | 1  | 0  | 1  | 1  | 0  | 0  |\n",
       "| 513 | 43 | 1  | 0  | 0  | 0  | 0  | 0  | 0  | 0  | 0  | 0  | 0  | 0  | 0  | 1  | 0  | 0  |\n",
       "| 515 | 54 | 0  | 1  | 1  | 1  | 1  | 1  | 0  | 0  | 0  | 0  | 0  | 1  | 0  | 0  | 0  | 1  |\n",
       "| 518 | 58 | 0  | 1  | 1  | 1  | 1  | 1  | 0  | 1  | 0  | 0  | 0  | 1  | 1  | 0  | 1  | 1  |\n",
       "| 520 | 42 | 1  | 0  | 0  | 0  | 0  | 0  | 0  | 0  | 0  | 0  | 0  | 0  | 0  | 0  | 0  | 0  |\n",
       "\n"
      ],
      "text/plain": [
       "    Age Gender Polyuria Polydipsia sudden.weight.loss weakness Polyphagia\n",
       "509 58  1      0        0          0                  1        0         \n",
       "513 43  1      0        0          0                  0        0         \n",
       "515 54  0      1        1          1                  1        1         \n",
       "518 58  0      1        1          1                  1        1         \n",
       "520 42  1      0        0          0                  0        0         \n",
       "    Genital.thrush visual.blurring Itching Irritability delayed.healing\n",
       "509 0              0               1       0            1              \n",
       "513 0              0               0       0            0              \n",
       "515 0              0               0       0            0              \n",
       "518 0              1               0       0            0              \n",
       "520 0              0               0       0            0              \n",
       "    partial.paresis muscle.stiffness Alopecia Obesity class\n",
       "509 0               1                1        0       0    \n",
       "513 0               0                1        0       0    \n",
       "515 1               0                0        0       1    \n",
       "518 1               1                0        1       1    \n",
       "520 0               0                0        0       0    "
      ]
     },
     "metadata": {},
     "output_type": "display_data"
    }
   ],
   "source": [
    "#### Printing the Top 6 rows of training data and Bottom 5 rows of test data ####\n",
    "\n",
    "(\"Top 6 rows of training data, D1\")\n",
    "head(D1)\n",
    "\n",
    "(\"Bottom 5 rows of test data, D2\")\n",
    "tail(D2, n = 5)"
   ]
  },
  {
   "cell_type": "markdown",
   "id": "italic-hampshire",
   "metadata": {},
   "source": [
    "#### References\n",
    "\n",
    "Many parts of codes and notes from Dr. Masum Bhuiyan’s Predictive Analytics STAT 5290 class (Spring 2021)\n",
    "\n",
    "https://www.itl.nist.gov/div898/handbook/eda/section1/eda11.htm\n",
    "\n",
    "http://archive.ics.uci.edu/ml/datasets/Early+stage+diabetes+risk+prediction+dataset\n",
    "\n",
    "https://en.wikipedia.org/wiki/Exploratory_data_analysis\n",
    "\n",
    "Islam, MM Faniqul, et al. 'Likelihood prediction of diabetes at early stage using data mining techniques.' Computer Vision and Machine Intelligence in Medical Image Analysis. Springer, Singapore, 2020. 113-125.\n",
    "\n",
    "https://www.r-project.org/"
   ]
  },
  {
   "cell_type": "code",
   "execution_count": null,
   "id": "logical-corner",
   "metadata": {},
   "outputs": [],
   "source": []
  }
 ],
 "metadata": {
  "kernelspec": {
   "display_name": "R",
   "language": "R",
   "name": "ir"
  },
  "language_info": {
   "codemirror_mode": "r",
   "file_extension": ".r",
   "mimetype": "text/x-r-source",
   "name": "R",
   "pygments_lexer": "r",
   "version": "3.6.1"
  }
 },
 "nbformat": 4,
 "nbformat_minor": 5
}
